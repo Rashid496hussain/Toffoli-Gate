{
 "cells": [
  {
   "cell_type": "code",
   "execution_count": 29,
   "id": "41cad7d6-8212-4d46-918a-f50c0eb6fc13",
   "metadata": {},
   "outputs": [
    {
     "name": "stdout",
     "output_type": "stream",
     "text": [
      "Requirement already satisfied: qiskit in c:\\users\\dr. rashid hussain\\anaconda3\\lib\\site-packages (1.2.4)\n",
      "Requirement already satisfied: rustworkx>=0.15.0 in c:\\users\\dr. rashid hussain\\anaconda3\\lib\\site-packages (from qiskit) (0.16.0)\n",
      "Requirement already satisfied: numpy<3,>=1.17 in c:\\users\\dr. rashid hussain\\anaconda3\\lib\\site-packages (from qiskit) (2.1.3)\n",
      "Requirement already satisfied: scipy>=1.5 in c:\\users\\dr. rashid hussain\\anaconda3\\lib\\site-packages (from qiskit) (1.15.3)\n",
      "Requirement already satisfied: sympy>=1.3 in c:\\users\\dr. rashid hussain\\anaconda3\\lib\\site-packages (from qiskit) (1.12.1)\n",
      "Requirement already satisfied: dill>=0.3 in c:\\users\\dr. rashid hussain\\anaconda3\\lib\\site-packages (from qiskit) (0.3.8)\n",
      "Requirement already satisfied: python-dateutil>=2.8.0 in c:\\users\\dr. rashid hussain\\appdata\\roaming\\python\\python313\\site-packages (from qiskit) (2.9.0.post0)\n",
      "Requirement already satisfied: stevedore>=3.0.0 in c:\\users\\dr. rashid hussain\\anaconda3\\lib\\site-packages (from qiskit) (5.4.1)\n",
      "Requirement already satisfied: typing-extensions in c:\\users\\dr. rashid hussain\\anaconda3\\lib\\site-packages (from qiskit) (4.12.2)\n",
      "Requirement already satisfied: symengine<0.14,>=0.11 in c:\\users\\dr. rashid hussain\\anaconda3\\lib\\site-packages (from qiskit) (0.13.0)\n",
      "Requirement already satisfied: six>=1.5 in c:\\users\\dr. rashid hussain\\appdata\\roaming\\python\\python313\\site-packages (from python-dateutil>=2.8.0->qiskit) (1.17.0)\n",
      "Requirement already satisfied: pbr>=2.0.0 in c:\\users\\dr. rashid hussain\\anaconda3\\lib\\site-packages (from stevedore>=3.0.0->qiskit) (6.1.1)\n",
      "Requirement already satisfied: setuptools in c:\\users\\dr. rashid hussain\\anaconda3\\lib\\site-packages (from pbr>=2.0.0->stevedore>=3.0.0->qiskit) (72.1.0)\n",
      "Requirement already satisfied: mpmath<1.4.0,>=1.1.0 in c:\\users\\dr. rashid hussain\\anaconda3\\lib\\site-packages (from sympy>=1.3->qiskit) (1.3.0)\n",
      "Note: you may need to restart the kernel to use updated packages.\n"
     ]
    }
   ],
   "source": [
    "pip install qiskit"
   ]
  },
  {
   "cell_type": "code",
   "execution_count": 31,
   "id": "19049314-1de5-4795-aa28-28fc339a5932",
   "metadata": {},
   "outputs": [
    {
     "name": "stdout",
     "output_type": "stream",
     "text": [
      "Measurement outcomes: {'111': 1024}\n",
      "\n",
      "Quantum Circuit:\n",
      "     ┌───┐ ░       ░ ┌─┐      \n",
      "q_0: ┤ X ├─░───■───░─┤M├──────\n",
      "     ├───┤ ░   │   ░ └╥┘┌─┐   \n",
      "q_1: ┤ X ├─░───■───░──╫─┤M├───\n",
      "     └───┘ ░ ┌─┴─┐ ░  ║ └╥┘┌─┐\n",
      "q_2: ──────░─┤ X ├─░──╫──╫─┤M├\n",
      "           ░ └───┘ ░  ║  ║ └╥┘\n",
      "c: 3/═════════════════╩══╩══╩═\n",
      "                      0  1  2 \n"
     ]
    }
   ],
   "source": [
    "from qiskit import QuantumCircuit\n",
    "from qiskit_aer import AerSimulator\n",
    "from qiskit.visualization import plot_histogram\n",
    "\n",
    "# Create a quantum circuit with 3 qubits and 3 classical bits\n",
    "qc = QuantumCircuit(3, 3)\n",
    "\n",
    "# Initialize the qubits to |1⟩ for both control qubits and |0⟩ for the target\n",
    "qc.x(0)  # Set first control qubit to |1⟩\n",
    "qc.x(1)  # Set second control qubit to |1⟩\n",
    "qc.barrier()\n",
    "\n",
    "# Apply Toffoli gate (control qubits: 0, 1; target qubit: 2)\n",
    "qc.ccx(0, 1, 2)\n",
    "qc.barrier()\n",
    "\n",
    "# Measure all qubits\n",
    "qc.measure([0, 1, 2], [0, 1, 2])\n",
    "\n",
    "# Simulate the circuit\n",
    "simulator = AerSimulator()  # Updated backend\n",
    "job = simulator.run(qc, shots=1024)\n",
    "result = job.result()\n",
    "counts = result.get_counts()\n",
    "\n",
    "# Print the results\n",
    "print(\"Measurement outcomes:\", counts)\n",
    "\n",
    "# Optional: Visualize the circuit and results\n",
    "print(\"\\nQuantum Circuit:\")\n",
    "print(qc.draw())\n",
    "# plot_histogram(counts)  # Uncomment to display histogram (requires matplotlib)"
   ]
  },
  {
   "cell_type": "code",
   "execution_count": null,
   "id": "924a6710-6b17-45e0-8be4-21a533b3a470",
   "metadata": {},
   "outputs": [],
   "source": []
  }
 ],
 "metadata": {
  "kernelspec": {
   "display_name": "Python 3 (ipykernel)",
   "language": "python",
   "name": "python3"
  },
  "language_info": {
   "codemirror_mode": {
    "name": "ipython",
    "version": 3
   },
   "file_extension": ".py",
   "mimetype": "text/x-python",
   "name": "python",
   "nbconvert_exporter": "python",
   "pygments_lexer": "ipython3",
   "version": "3.13.5"
  }
 },
 "nbformat": 4,
 "nbformat_minor": 5
}
